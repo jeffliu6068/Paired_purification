{
 "metadata": {
  "language_info": {
   "codemirror_mode": {
    "name": "ipython",
    "version": 3
   },
   "file_extension": ".py",
   "mimetype": "text/x-python",
   "name": "python",
   "nbconvert_exporter": "python",
   "pygments_lexer": "ipython3",
   "version": 3
  },
  "orig_nbformat": 2
 },
 "nbformat": 4,
 "nbformat_minor": 2,
 "cells": [
  {
   "cell_type": "code",
   "execution_count": null,
   "metadata": {},
   "outputs": [],
   "source": [
    "import pandas as pd\n",
    "from scipy import stats\n",
    "import numpy as np\n",
    "import matplotlib.pyplot as plt\n",
    "import math\n",
    "from tqdm import tqdm_notebook as tqdm\n",
    "import time\n",
    "import matplotlib as mpl\n",
    "\n",
    "\n",
    "def tcga_paired_purification(input_data_cancer, input_data_normal, purity_df):\n",
    "    #purity analysis\n",
    "    common_columns = set(input_data_cancer) & set(purity_df.index)\n",
    "\n",
    "    mi = input_data_normal['mean']\n",
    "    std = input_data_normal['std']\n",
    "\n",
    "    xi = input_data_cancer.loc[mi.index, common_columns]\n",
    "    pi = purity_df\n",
    "\n",
    "    #multiple mi and pi to form matrix dataframe\n",
    "    mi_pi = pd.DataFrame(np.outer(2**(mi+2*std),1-pi), index = mi.index, columns= pi.index)\n",
    "\n",
    "    #populate purity\n",
    "    pi_ready = pd.DataFrame(np.repeat(pd.DataFrame(pi).T.values,mi_pi.shape[0],axis=0),index=mi_pi.index,columns=mi_pi.columns)\n",
    "\n",
    "    #calculate cancer porportion\n",
    "    ci = (xi-mi_pi)\n",
    "\n",
    "    return ci"
   ]
  }
 ]
}